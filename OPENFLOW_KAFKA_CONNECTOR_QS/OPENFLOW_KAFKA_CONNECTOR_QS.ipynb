{
 "metadata": {
  "kernelspec": {
   "display_name": "Streamlit Notebook",
   "name": "streamlit"
  },
  "lastEditStatus": {
   "notebookId": "jvoislfwb2zbje3yisgd",
   "authorId": "4227028274930",
   "authorName": "KAMESHS",
   "authorEmail": "kamesh.sampath@snowflake.com",
   "sessionId": "b519ce22-db87-4076-abd2-1d7fa6de867a",
   "lastEditTime": 1760589901390
  }
 },
 "nbformat_minor": 5,
 "nbformat": 4,
 "cells": [
  {
   "cell_type": "markdown",
   "id": "3775908f-ca36-4846-8f38-5adca39217f2",
   "metadata": {
    "name": "intro",
    "collapsed": false
   },
   "source": "# Getting Started with Snowflake Openflow Kafka Connector\n\nCompanion code for the [Snowflake Openflow Kafka Connector Quickstart](https://quickstarts.snowflake.com/guide/getting_started_with_openflow_kafka_connector/index.html).\n\n## Overview\n\nThis quickstart demonstrates how to build a real-time streaming pipeline from Apache Kafka to Snowflake using the Openflow Kafka Connector. You'll learn how to:\n\n- Set up a Kafka topic for application log streaming\n- Configure Snowflake objects (database, schema, tables, network rules)\n- Deploy Openflow SPCS runtime\n- Configure the Kafka connector in Openflow Canvas\n- Stream real-time logs from Kafka to Snowflake\n- Perform powerful SQL analytics on streaming log data\n"
  },
  {
   "cell_type": "markdown",
   "id": "4da2f77c-7669-4b17-be91-1fad096f7a23",
   "metadata": {
    "name": "md_setup",
    "collapsed": false
   },
   "source": "## Database Setup\nThe following cell sets up all required Snowflake objects for the Kafka log streaming demo. Run this BEFORE configuring the Openflow connector"
  },
  {
   "cell_type": "code",
   "id": "959d36b5-f443-43fb-8167-57a7de3d996e",
   "metadata": {
    "language": "sql",
    "name": "setup"
   },
   "outputs": [],
   "source": "\nUSE ROLE ACCOUNTADMIN;\n\n-- Step 1: Create Role and Database\n-- ----------------------------------------------------------------------------\n\n-- Create runtime role (reuse if coming from SPCS quickstart)\nCREATE ROLE IF NOT EXISTS QUICKSTART_ROLE;\n\n-- Create database for Kafka streaming data\nCREATE DATABASE IF NOT EXISTS QUICKSTART_KAFKA_CONNECTOR_DB;\n\n-- Create warehouse for data processing and queries\nCREATE WAREHOUSE IF NOT EXISTS QUICKSTART_KAFKA_CONNECTOR_WH\n  WAREHOUSE_SIZE = XSMALL\n  AUTO_SUSPEND = 60\n  AUTO_RESUME = TRUE\n  INITIALLY_SUSPENDED = TRUE;\n\n-- Grant privileges to runtime role\nGRANT OWNERSHIP ON DATABASE QUICKSTART_KAFKA_CONNECTOR_DB TO ROLE QUICKSTART_ROLE;\nGRANT OWNERSHIP ON SCHEMA QUICKSTART_KAFKA_CONNECTOR_DB.PUBLIC TO ROLE QUICKSTART_ROLE;\nGRANT USAGE ON WAREHOUSE QUICKSTART_KAFKA_CONNECTOR_WH TO ROLE QUICKSTART_ROLE;\n\n-- Grant runtime role to Openflow admin\nGRANT ROLE QUICKSTART_ROLE TO ROLE OPENFLOW_ADMIN;",
   "execution_count": null
  },
  {
   "cell_type": "markdown",
   "id": "0e2b9ecf-bff9-4a2d-9ed9-dca15621950c",
   "metadata": {
    "name": "md_network_rule",
    "collapsed": false
   },
   "source": "## Create Network Rule\n\nCreate network rule to allow Openflow runtime to access the Kafka clusters\n\n> **IMPORTANT**: Replace with your Kafka broker endpoint(s)\n> This quickstart works with any Kafka service:\n> - GCP Managed Kafka:    `34.123.45.67:9092(public IP)`\n> - AWS MSK:              `b-1.mycluster.kafka.us-east-1.amazonaws.com:9092`\n> - Confluent Cloud:      `pkc-xxxxx.us-east-1.aws.confluent.cloud:9092`\n> - Azure Event Hubs:     `myeventhub.servicebus.windows.net:9093`\n> - Self-hosted:          `kafka.mycompany.com:9092`\n>\n> **NOTE**: Ensure network connectivity and firewall rules allow Snowflake access\n> For multiple brokers (recommended), include all broker endpoints in VALUE_LIST"
  },
  {
   "cell_type": "code",
   "id": "38f3fd90-3410-4add-b8c3-84553ca60464",
   "metadata": {
    "language": "sql",
    "name": "create_network_rule"
   },
   "outputs": [],
   "source": "USE ROLE QUICKSTART_ROLE;\nUSE DATABASE QUICKSTART_KAFKA_CONNECTOR_DB;\n\n-- Create schema for network rules\nCREATE SCHEMA IF NOT EXISTS QUICKSTART_KAFKA_CONNECTOR_DB.NETWORKS;\n\nCREATE OR REPLACE NETWORK RULE QUICKSTART_KAFKA_CONNECTOR_DB.NETWORKS.kafka_network_rule\n  MODE = EGRESS\n  TYPE = HOST_PORT\n  VALUE_LIST = (\n    'pkc-n98pk.us-west-2.aws.confluent.cloud:9092'\n    -- 'YOUR-KAFKA-BROKER-2:9092',  -- Add additional brokers if available\n    -- 'YOUR-KAFKA-BROKER-3:9092'   -- Remove if you have fewer brokers\n  );",
   "execution_count": null
  },
  {
   "cell_type": "code",
   "id": "72edf0b2-2413-4b7c-9853-8102600662e4",
   "metadata": {
    "language": "sql",
    "name": "describe_network_rule"
   },
   "outputs": [],
   "source": "DESC NETWORK RULE QUICKSTART_KAFKA_CONNECTOR_DB.NETWORKS.kafka_network_rule;",
   "execution_count": null
  },
  {
   "cell_type": "markdown",
   "id": "71efb410-760d-42a9-9a0c-444dee0dda18",
   "metadata": {
    "name": "external_access_integration",
    "collapsed": false
   },
   "source": ""
  },
  {
   "cell_type": "markdown",
   "id": "94fcfa66-f113-44ad-8496-7f0492319e2a",
   "metadata": {
    "name": "cell1",
    "collapsed": false
   },
   "source": "## Create External Access Integration(EAI)\n\nCreate an EAI to that can be associated with the Openflow runtime"
  },
  {
   "cell_type": "code",
   "id": "c3a7d2a6-a8d3-4d4d-afeb-3ef183639a69",
   "metadata": {
    "language": "sql",
    "name": "create_eai"
   },
   "outputs": [],
   "source": "USE ROLE ACCOUNTADMIN;\n\nCREATE OR REPLACE EXTERNAL ACCESS INTEGRATION quickstart_kafka_connector_access\n  ALLOWED_NETWORK_RULES = (\n    QUICKSTART_KAFKA_CONNECTOR_DB.NETWORKS.kafka_network_rule\n  )\n  ENABLED = TRUE\n  COMMENT = 'Openflow SPCS runtime access for Kafka connector';\n\n-- Grant usage to runtime role\nGRANT USAGE ON INTEGRATION quickstart_kafka_connector_access TO ROLE OPENFLOW_ADMIN;\n-- Grant usage to runtime role\nGRANT USAGE ON INTEGRATION quickstart_kafka_connector_access TO ROLE QUICKSTART_ROLE;",
   "execution_count": null
  },
  {
   "cell_type": "code",
   "id": "3cc803e5-d383-432d-8fd4-4c244a1f9e19",
   "metadata": {
    "language": "sql",
    "name": "describe_eai"
   },
   "outputs": [],
   "source": "DESCRIBE EXTERNAL ACCESS INTEGRATION quickstart_kafka_connector_access;",
   "execution_count": null
  }
 ]
}